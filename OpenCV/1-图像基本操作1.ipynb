{
 "cells": [
  {
   "cell_type": "markdown",
   "id": "c1763668",
   "metadata": {},
   "source": [
    "# 图像处理"
   ]
  },
  {
   "cell_type": "code",
   "execution_count": 1,
   "id": "fd472478",
   "metadata": {},
   "outputs": [],
   "source": [
    "import cv2\n",
    "import matplotlib.pyplot as plt\n",
    "import numpy as np\n",
    "%matplotlib inline\n",
    "\n",
    "img = cv2.imread('37.jpg')"
   ]
  },
  {
   "cell_type": "code",
   "execution_count": 5,
   "id": "c8e81c47",
   "metadata": {},
   "outputs": [
    {
     "data": {
      "text/plain": [
       "array([[[65, 74, 77],\n",
       "        [64, 73, 76],\n",
       "        [65, 74, 77],\n",
       "        ...,\n",
       "        [37, 36, 38],\n",
       "        [36, 35, 37],\n",
       "        [34, 33, 35]],\n",
       "\n",
       "       [[67, 76, 79],\n",
       "        [64, 73, 76],\n",
       "        [64, 73, 76],\n",
       "        ...,\n",
       "        [39, 38, 40],\n",
       "        [37, 36, 38],\n",
       "        [34, 33, 35]],\n",
       "\n",
       "       [[69, 78, 81],\n",
       "        [66, 75, 78],\n",
       "        [66, 75, 78],\n",
       "        ...,\n",
       "        [38, 40, 41],\n",
       "        [36, 38, 39],\n",
       "        [33, 35, 36]],\n",
       "\n",
       "       ...,\n",
       "\n",
       "       [[43, 54, 58],\n",
       "        [48, 57, 60],\n",
       "        [41, 50, 53],\n",
       "        ...,\n",
       "        [32, 37, 38],\n",
       "        [32, 37, 38],\n",
       "        [33, 38, 41]],\n",
       "\n",
       "       [[45, 54, 57],\n",
       "        [49, 58, 61],\n",
       "        [39, 48, 51],\n",
       "        ...,\n",
       "        [32, 37, 38],\n",
       "        [33, 38, 39],\n",
       "        [34, 39, 42]],\n",
       "\n",
       "       [[44, 53, 56],\n",
       "        [49, 58, 61],\n",
       "        [40, 47, 50],\n",
       "        ...,\n",
       "        [31, 36, 37],\n",
       "        [29, 34, 35],\n",
       "        [29, 34, 37]]], dtype=uint8)"
      ]
     },
     "execution_count": 5,
     "metadata": {},
     "output_type": "execute_result"
    }
   ],
   "source": [
    "img"
   ]
  },
  {
   "cell_type": "code",
   "execution_count": 3,
   "id": "9effc473",
   "metadata": {},
   "outputs": [],
   "source": [
    "# 图像显示\n",
    "cv2.imshow('image', img) # 参数1：窗口名称 参数2：显示图片的像素矩阵\n",
    "cv2.waitKey(0) # 等待时间关闭窗口 0：任意键关闭窗口 某数字：毫秒级显示窗口时间\n",
    "cv2.destroyAllWindows()"
   ]
  },
  {
   "cell_type": "code",
   "execution_count": 2,
   "id": "5b972f9e",
   "metadata": {},
   "outputs": [],
   "source": [
    "def cv_Show(name, img):\n",
    "    cv2.imshow(name, img)\n",
    "    cv2.waitKey(0)\n",
    "    cv2.destroyAllWindows()"
   ]
  },
  {
   "cell_type": "code",
   "execution_count": 3,
   "id": "3fe95ea2",
   "metadata": {},
   "outputs": [
    {
     "data": {
      "text/plain": [
       "(2743, 2000, 3)"
      ]
     },
     "execution_count": 3,
     "metadata": {},
     "output_type": "execute_result"
    }
   ],
   "source": [
    "img.shape # 输出（高度，宽度，类型）类型为3说明图像为RGB格式"
   ]
  },
  {
   "cell_type": "code",
   "execution_count": 4,
   "id": "8318a264",
   "metadata": {},
   "outputs": [
    {
     "data": {
      "text/plain": [
       "array([[74, 73, 74, ..., 37, 36, 34],\n",
       "       [76, 73, 73, ..., 39, 37, 34],\n",
       "       [78, 75, 75, ..., 40, 38, 35],\n",
       "       ...,\n",
       "       [54, 57, 50, ..., 37, 37, 38],\n",
       "       [54, 58, 48, ..., 37, 38, 39],\n",
       "       [53, 58, 47, ..., 36, 34, 34]], dtype=uint8)"
      ]
     },
     "execution_count": 4,
     "metadata": {},
     "output_type": "execute_result"
    }
   ],
   "source": [
    "# cv2.IMREAD_GRAYSCALE 读取灰度图像\n",
    "img = cv2.imread('37.jpg', cv2.IMREAD_GRAYSCALE)\n",
    "img"
   ]
  },
  {
   "cell_type": "code",
   "execution_count": 5,
   "id": "fc0b5000",
   "metadata": {},
   "outputs": [],
   "source": [
    "cv_Show('img', img)"
   ]
  },
  {
   "cell_type": "code",
   "execution_count": 9,
   "id": "f9a02ca8",
   "metadata": {},
   "outputs": [
    {
     "data": {
      "text/plain": [
       "True"
      ]
     },
     "execution_count": 9,
     "metadata": {},
     "output_type": "execute_result"
    }
   ],
   "source": [
    "# 保存\n",
    "cv2.imwrite('Gray37.png', img)"
   ]
  },
  {
   "cell_type": "code",
   "execution_count": 6,
   "id": "5a6450e5",
   "metadata": {},
   "outputs": [
    {
     "data": {
      "text/plain": [
       "numpy.ndarray"
      ]
     },
     "execution_count": 6,
     "metadata": {},
     "output_type": "execute_result"
    }
   ],
   "source": [
    "type(img)"
   ]
  },
  {
   "cell_type": "code",
   "execution_count": 7,
   "id": "d06b1e3e",
   "metadata": {
    "scrolled": true
   },
   "outputs": [
    {
     "data": {
      "text/plain": [
       "5486000"
      ]
     },
     "execution_count": 7,
     "metadata": {},
     "output_type": "execute_result"
    }
   ],
   "source": [
    "img.size # 查看图像大小"
   ]
  },
  {
   "cell_type": "code",
   "execution_count": 8,
   "id": "2d307234",
   "metadata": {},
   "outputs": [
    {
     "data": {
      "text/plain": [
       "dtype('uint8')"
      ]
     },
     "execution_count": 8,
     "metadata": {},
     "output_type": "execute_result"
    }
   ],
   "source": [
    "img.dtype # 查看像素大小的存储类型"
   ]
  },
  {
   "cell_type": "markdown",
   "id": "88376d09",
   "metadata": {},
   "source": [
    "# 视频处理"
   ]
  },
  {
   "cell_type": "code",
   "execution_count": 9,
   "id": "e82d379a",
   "metadata": {},
   "outputs": [],
   "source": [
    "import cv2\n",
    "import matplotlib\n",
    "import numpy as np\n",
    "\n",
    "# 读取视频文件\n",
    "vc = cv2.VideoCapture('5Kill.mp4')"
   ]
  },
  {
   "cell_type": "code",
   "execution_count": 11,
   "id": "b3e7bc5a",
   "metadata": {},
   "outputs": [
    {
     "name": "stdout",
     "output_type": "stream",
     "text": [
      "True\n"
     ]
    }
   ],
   "source": [
    "# 检查是否打开正确\n",
    "if vc.isOpened():\n",
    "    open, frame = vc.read() # 返回两个数据，读取是否成功，以及读取的图像数据\n",
    "else:\n",
    "    open = False\n",
    "print(open)"
   ]
  },
  {
   "cell_type": "code",
   "execution_count": 12,
   "id": "583f2787",
   "metadata": {},
   "outputs": [],
   "source": [
    "while open: # 循环读取视频中的每一张图像\n",
    "    ret, frame = vc.read() # ret即读取是否成功，frame为读取的图像\n",
    "    if frame is None:\n",
    "        break\n",
    "    if ret == True:\n",
    "        gray = cv2.cvtColor(frame, cv2.COLOR_BGR2GRAY) # 将彩色图像转换为灰度图\n",
    "        cv2.imshow('result', gray)\n",
    "        if cv2.waitKey(10) & 0xFF == 27:\n",
    "            break\n",
    "vc.release()\n",
    "cv2.destroyAllWindows()"
   ]
  },
  {
   "cell_type": "markdown",
   "id": "4433e658",
   "metadata": {},
   "source": [
    "## 截取部分图像数据"
   ]
  },
  {
   "cell_type": "code",
   "execution_count": 13,
   "id": "ad29c98e",
   "metadata": {},
   "outputs": [],
   "source": [
    "img = cv2.imread('37.jpg')\n",
    "pic = img[0:200, 0:200] # 对ROI区域切分\n",
    "cv_Show('picture', pic)"
   ]
  },
  {
   "cell_type": "code",
   "execution_count": 20,
   "id": "67641d13",
   "metadata": {},
   "outputs": [],
   "source": [
    "b,g,r= cv2.split(img) # 将RGB对应的色域分别提取，注意opencv库中返回值的顺序为BGR\n",
    "cv_Show(\"img\", r)"
   ]
  },
  {
   "cell_type": "code",
   "execution_count": 21,
   "id": "1c88bd5f",
   "metadata": {},
   "outputs": [],
   "source": [
    "img = cv2.merge((b,g,r)) # 参数为需要融合的图像的一个vector\n",
    "cv_Show(\"img\", img)"
   ]
  },
  {
   "cell_type": "markdown",
   "id": "9ac13be0",
   "metadata": {},
   "source": [
    "## 边界填充\n",
    "对图像边界增加\n",
    "在卷积时需要进行边界填充"
   ]
  },
  {
   "cell_type": "code",
   "execution_count": 37,
   "id": "ea3a7dfe",
   "metadata": {},
   "outputs": [],
   "source": [
    "top_size, bottom_size, left_size, right_size = (50,50,50,50) # 上下左右需要填充的大小\n",
    "img = cv2.imread(\"37.jpg\")\n",
    "# 不同的填充方法使用相同的函数 copyMakeBorder\n",
    "# BroadType不同，最后得到的填充 通过cv2.BORDER_检索\n",
    "replicate1 = cv2.copyMakeBorder(img, top_size, bottom_size, left_size, right_size, borderType=cv2.BORDER_REPLICATE)        # 将边缘不断复制\n",
    "replicate2 = cv2.copyMakeBorder(img, top_size, bottom_size, left_size, right_size, borderType=cv2.BORDER_REFLECT)          # 镜像反射 abcd|dcba\n",
    "replicate3 = cv2.copyMakeBorder(img, top_size, bottom_size, left_size, right_size, borderType=cv2.BORDER_REFLECT_101)      # 反射，以边缘为轴\n",
    "replicate4 = cv2.copyMakeBorder(img, top_size, bottom_size, left_size, right_size, borderType=cv2.BORDER_WRAP)             # 外包装法\n",
    "replicate5 = cv2.copyMakeBorder(img, top_size, bottom_size, left_size, right_size, borderType=cv2.BORDER_CONSTANT, value=0)# 以常数填充\n",
    "\n",
    "res = np.hstack((replicate1, replicate2, replicate3, replicate4, replicate5))\n",
    "cv_Show('res', res)"
   ]
  },
  {
   "cell_type": "markdown",
   "id": "6093d90a",
   "metadata": {},
   "source": [
    "## 数值计算"
   ]
  },
  {
   "cell_type": "code",
   "execution_count": 38,
   "id": "183dce69",
   "metadata": {},
   "outputs": [
    {
     "data": {
      "text/plain": [
       "array([[65, 64, 65, ..., 37, 36, 34],\n",
       "       [67, 64, 64, ..., 39, 37, 34],\n",
       "       [69, 66, 66, ..., 38, 36, 33],\n",
       "       [69, 68, 68, ..., 35, 35, 35],\n",
       "       [64, 68, 70, ..., 30, 32, 37]], dtype=uint8)"
      ]
     },
     "execution_count": 38,
     "metadata": {},
     "output_type": "execute_result"
    }
   ],
   "source": [
    "img2 = img + 10\n",
    "img[:5, :, 0]"
   ]
  },
  {
   "cell_type": "code",
   "execution_count": 39,
   "id": "219dd228",
   "metadata": {},
   "outputs": [
    {
     "data": {
      "text/plain": [
       "array([[75, 74, 75, ..., 47, 46, 44],\n",
       "       [77, 74, 74, ..., 49, 47, 44],\n",
       "       [79, 76, 76, ..., 48, 46, 43],\n",
       "       [79, 78, 78, ..., 45, 45, 45],\n",
       "       [74, 78, 80, ..., 40, 42, 47]], dtype=uint8)"
      ]
     },
     "execution_count": 39,
     "metadata": {},
     "output_type": "execute_result"
    }
   ],
   "source": [
    "img2[:5, :, 0]"
   ]
  },
  {
   "cell_type": "code",
   "execution_count": 40,
   "id": "72370b90",
   "metadata": {},
   "outputs": [],
   "source": [
    "img3 = img + img2 # 由于像素存储数值为uint8类型，所以当超过255时会溢出\n",
    "img4 = cv2.add(img, img2) # cv2自带加法，越界则取临界最大值，未越界则取本身\n",
    "res = np.hstack((img3, img4))\n",
    "cv_Show(\"res\", res)"
   ]
  },
  {
   "cell_type": "markdown",
   "id": "f2617140",
   "metadata": {},
   "source": [
    "## 图像融合"
   ]
  },
  {
   "cell_type": "code",
   "execution_count": 41,
   "id": "abf7ad9f",
   "metadata": {},
   "outputs": [
    {
     "data": {
      "text/plain": [
       "(2743, 2000, 3)"
      ]
     },
     "execution_count": 41,
     "metadata": {},
     "output_type": "execute_result"
    }
   ],
   "source": [
    "# 对图像risize，将两张图像变为形状相同的两张图像即可\n",
    "img2.shape # 返回的是一个元组"
   ]
  },
  {
   "cell_type": "code",
   "execution_count": 42,
   "id": "04ba5cc4",
   "metadata": {},
   "outputs": [
    {
     "name": "stdout",
     "output_type": "stream",
     "text": [
      "2743\n",
      "2000\n"
     ]
    }
   ],
   "source": [
    "# 获取img的长和宽\n",
    "shape = list(img2.shape)\n",
    "a = shape[0]\n",
    "b = shape[1]\n",
    "print(a)\n",
    "print(b)"
   ]
  },
  {
   "cell_type": "code",
   "execution_count": 43,
   "id": "8da4ffde",
   "metadata": {},
   "outputs": [],
   "source": [
    "img_resize = cv2.resize(img, (a, b))"
   ]
  },
  {
   "cell_type": "code",
   "execution_count": 44,
   "id": "ee86e65d",
   "metadata": {},
   "outputs": [],
   "source": [
    "# 或指定图像长宽的倍数关系 \n",
    "res1 = cv2.resize(img, (0, 0), fx=0.3, fy=0.1)\n",
    "res2 = cv2.resize(img, (0, 0), fx=0.1, fy=0.3)\n",
    "res = cv2.resize(img, (0,0), fx=0.2, fy=0.2)\n",
    "cv_Show('RES1', res1)\n",
    "cv_Show('RES2', res2)\n",
    "cv_Show('RES', res)\n",
    "# cv2.imwrite('shrink37.jpg', res)"
   ]
  },
  {
   "cell_type": "markdown",
   "id": "b84831f7",
   "metadata": {},
   "source": [
    "图像融合公式 img = a * img1 + b * img2\n",
    "其中a，b融合的两张图像的权重"
   ]
  },
  {
   "cell_type": "code",
   "execution_count": 46,
   "id": "f27b03d5",
   "metadata": {},
   "outputs": [],
   "source": [
    "res_imerg = cv2.addWeighted(img, 0.4, img2, 0.6, 0)\n",
    "cv_Show(\"res_imerg\", res_imerg)"
   ]
  },
  {
   "cell_type": "markdown",
   "id": "52378619",
   "metadata": {},
   "source": [
    "## 图像阈值"
   ]
  },
  {
   "cell_type": "markdown",
   "id": "7c16198d",
   "metadata": {},
   "source": [
    "对图像中的像素点，超过阈值如何处理，低于阈值如何处理，就是图像阈值的意义"
   ]
  },
  {
   "cell_type": "markdown",
   "id": "0a95bd91",
   "metadata": {},
   "source": [
    "### ret, dst = cv2.threshold(src, thresh, maxval, type)"
   ]
  },
  {
   "cell_type": "markdown",
   "id": "4f6b9fde",
   "metadata": {},
   "source": [
    "- src:输入图，只能输入单通道图像，通常来说为灰度图\n",
    "- dst:输出图\n",
    "- thresh:阈值\n",
    "- maxval:当像素超过阈值所赋予的值(或者小于阈值，根据type来定)\n",
    "- tpye:二值化操作类型，包括以下五种类型：\n",
    "- cv2.THRESH_BINARY:**超过阈值部分取maxval**，否则取0\n",
    "- cv2.THRESH_BINARY_INV:**低于阈值部分取maxval**， 否则取0（cv2.THRESH_BINARY的反转）\n",
    "- cv2.THRESH_TRUNC:**大于阈值部分设置为阈值**，否则不变\n",
    "- cv2.THRESH_TOZERO:**大于阈值部分不改变**，否则设为0\n",
    "- cv2.THRESH_TOZERO_INV:小于阈值部分不改变，否则设为0"
   ]
  },
  {
   "cell_type": "code",
   "execution_count": 47,
   "id": "26824c4f",
   "metadata": {},
   "outputs": [
    {
     "data": {
      "image/png": "[encoded data removed]",
      "text/plain": [
       "<Figure size 432x288 with 6 Axes>"
      ]
     },
     "metadata": {},
     "output_type": "display_data"
    }
   ],
   "source": [
    "# 读取灰度图像\n",
    "img = cv2.imread('shrink37.jpg', cv2.IMREAD_GRAYSCALE)\n",
    "\n",
    "ret, thresh1 = cv2.threshold(img, 127, 255, cv2.THRESH_BINARY)\n",
    "ret, thresh2 = cv2.threshold(img, 127, 255, cv2.THRESH_BINARY_INV)\n",
    "ret, thresh3 = cv2.threshold(img, 127, 255, cv2.THRESH_TRUNC)\n",
    "ret, thresh4 = cv2.threshold(img, 127, 255, cv2.THRESH_TOZERO)\n",
    "ret, thresh5 = cv2.threshold(img, 127, 255, cv2.THRESH_TOZERO_INV)\n",
    "\n",
    "titles = ['Original Image', 'BINARY', 'BINARY_INV', 'TRUNC', 'TOZERO', 'TOZERO_INV']\n",
    "images = [img, thresh1, thresh2, thresh3, thresh4, thresh5]\n",
    "\n",
    "for i in range(6):\n",
    "    plt.subplot(2, 3, i + 1),plt.imshow(images[i], 'gray')\n",
    "    plt.title(titles[i])\n",
    "    plt.xticks([]), plt.yticks([])\n",
    "plt.show()"
   ]
  },
  {
   "cell_type": "code",
   "execution_count": null,
   "id": "31677e10",
   "metadata": {},
   "outputs": [],
   "source": []
  }
 ],
 "metadata": {
  "kernelspec": {
   "display_name": "OpenCV",
   "language": "python",
   "name": "opencv"
  },
  "language_info": {
   "codemirror_mode": {
    "name": "ipython",
    "version": 3
   },
   "file_extension": ".py",
   "mimetype": "text/x-python",
   "name": "python",
   "nbconvert_exporter": "python",
   "pygments_lexer": "ipython3",
   "version": "3.6.13"
  }
 },
 "nbformat": 4,
 "nbformat_minor": 5
}
