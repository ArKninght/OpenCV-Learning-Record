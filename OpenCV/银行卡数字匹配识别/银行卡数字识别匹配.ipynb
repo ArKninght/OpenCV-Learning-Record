{
 "cells": [
  {
   "cell_type": "markdown",
   "id": "231af296",
   "metadata": {},
   "source": [
    "### 实现目标\n",
    "- 识别数字并存储数字\n",
    "- 标识出数字的位置并画出图形  "
   ]
  },
  {
   "cell_type": "markdown",
   "id": "788b3269",
   "metadata": {},
   "source": [
    "### 方法\n",
    "对模板以及银行卡进行轮廓检测，获取对应数字的轮廓矩形  \n",
    "将银行卡中的矩形和模板一一比较，得到结果"
   ]
  },
  {
   "cell_type": "markdown",
   "id": "059d1cb3",
   "metadata": {},
   "source": [
    "### 问题\n",
    "轮廓检测过程中会检测到许多不相关的轮廓，如何预处理剔除这些轮廓并保留自己需要的轮廓是主要问题  \n",
    "通过长宽比例来过滤不需要的轮廓\n",
    "- 预处理是图像处理中比较重要的部分"
   ]
  },
  {
   "cell_type": "code",
   "execution_count": 20,
   "id": "765c5bb2",
   "metadata": {},
   "outputs": [],
   "source": [
    "import cv2\n",
    "import numpy as np"
   ]
  },
  {
   "cell_type": "code",
   "execution_count": 21,
   "id": "3b9438f2",
   "metadata": {},
   "outputs": [],
   "source": [
    "# 定义函数\n",
    "# 排序函数\n",
    "def sort_contours(cnts, methods = \"left-to-right\"):\n",
    "    # 定义两个参数，决定排列的顺序\n",
    "    reverse = False\n",
    "    i = 0;\n",
    "    # 条件判断，根据目标排列顺序改变参数\n",
    "    if methods == \"right-to-left\" or methods == \"bottom-to-top\":\n",
    "        reverse = True\n",
    "    if methods == \"top-to-bottom\" or methods == \"bottom-to-top\":\n",
    "        i = 1\n",
    "    \n",
    "    boundingbox = [cv2.boundingRect(c) for c in cnts] # 返回一个矩形，包括x,y,w,h\n",
    "    (cnts, boundingbox) = zip(*sorted(zip(cnts, boundingbox), key=lambda b: b[1][i], reverse=reverse))\n",
    "    \n",
    "    return cnts, boundingbox # 返回排序完成的边缘和对应的方形结构\n",
    "\n",
    "def my_resize(img, target_width):\n",
    "    # img必须为2D图像\n",
    "    h, w = img.shape\n",
    "    ratio = h / w\n",
    "    target_width = int(target_width)\n",
    "    img = cv2.resize(img,(target_width, int(target_width*ratio)))\n",
    "    ratio = w / target_width\n",
    "    return img, ratio\n",
    "\n",
    "\n",
    "def CV_show(name, img):\n",
    "    cv2.imshow(name, img)\n",
    "    cv2.waitKey(0)\n",
    "    cv2.destroyAllWindows()"
   ]
  },
  {
   "cell_type": "code",
   "execution_count": 22,
   "id": "b5ef7bd7",
   "metadata": {},
   "outputs": [],
   "source": [
    "# 轮廓导入\n",
    "# 导入模板\n",
    "template = cv2.imread(\"BankCardTemplae.png\")\n",
    "CV_show(\"BankCardTemplate\",template)\n",
    "\n",
    "# 将模板灰度化\n",
    "template_gray = cv2.cvtColor(template, cv2.COLOR_BGR2GRAY) # 灰度化\n",
    "\n",
    "# 二值化\n",
    "retval, template_binary = cv2.threshold(template_gray, 10, 255, cv2.THRESH_BINARY_INV) # 返回值为两个，需要两个变量来接收\n",
    "# template_binary = cv2.threshold(template_gray, 10, 255, cv2.THRESH_BINARY_INV)[1] # 选择第二个变量返回\n",
    "CV_show(\"BinaryTemplate\", template_binary)\n",
    "\n",
    "# 画出模板轮廓\n",
    "ref_, contours, hirearchy = cv2.findContours(template_binary.copy(), cv2.RETR_EXTERNAL, cv2.CHAIN_APPROX_SIMPLE)\n",
    "draw_template = cv2.drawContours(template, contours, -1, (0,0,255), 2)\n",
    "CV_show(\"draw_template\", draw_template)"
   ]
  },
  {
   "cell_type": "code",
   "execution_count": 23,
   "id": "5ce5b386",
   "metadata": {},
   "outputs": [],
   "source": [
    "# 轮廓排序\n",
    "ref_cnts = sort_contours(contours)[0] # 函数返回为元组，加中括号取第一个值\n",
    "# 创建一个字典，用于存储所有的模板\n",
    "dict_temlate = {}\n",
    "# enumerate 将一个可遍历的数据对象转换为一个索引序列\n",
    "for (i, c) in enumerate(ref_cnts):\n",
    "    # 提取每一个数字的模板对应的区域\n",
    "    (x,y,w,h) = cv2.boundingRect(c)\n",
    "    roi = template_binary[y:y+h,x:x+w] # 从后往前为x,y,z等，即维度从后往前上升\n",
    "    \n",
    "    # 统一模板的大小\n",
    "    roi = cv2.resize(roi, (40,64)) # resize又为(x,y)\n",
    "    \n",
    "    # 将获得的数字模板对应存储到字典中\n",
    "    dict_temlate[i] = roi"
   ]
  },
  {
   "cell_type": "code",
   "execution_count": 24,
   "id": "c185b64e",
   "metadata": {},
   "outputs": [],
   "source": [
    "# 对输入的银行卡进行预先处理，最重要的部分\n",
    "# 初始化卷积核\n",
    "rect_kernel = cv2.getStructuringElement(cv2.MORPH_RECT, (5,5))\n",
    "close_kernel = cv2.getStructuringElement(cv2.MORPH_RECT, (10,10))\n",
    "\n",
    "# 导入图像\n",
    "BankCard = cv2.imread(\"BankCard1.png\") # 彩色图像\n",
    "BankCard_gray = cv2.cvtColor(BankCard, cv2.COLOR_BGR2GRAY) # 灰度图像\n",
    "CV_show(\"gray\", BankCard_gray)\n",
    "\n",
    "# 归一化图像大小，更具有普适性\n",
    "BankCard_gray, ratio = my_resize(BankCard_gray, 300)\n",
    "CV_show(\"resize\", BankCard_gray)\n",
    "\n",
    "# 开运算\n",
    "open = cv2.morphologyEx(BankCard_gray, cv2.MORPH_OPEN, rect_kernel)\n",
    "CV_show(\"open\", open)\n",
    "\n",
    "# 礼帽操作 突出更明亮的区域\n",
    "tophat = cv2.morphologyEx(BankCard_gray, cv2.MORPH_TOPHAT, rect_kernel)\n",
    "CV_show(\"tophat\",tophat)\n",
    "\n",
    "# 闭运算\n",
    "close = cv2.morphologyEx(tophat, cv2.MORPH_CLOSE, close_kernel)\n",
    "CV_show(\"close\", close)\n",
    "\n",
    "# 二值化\n",
    "binary = cv2.threshold(close, 127, 255, cv2.THRESH_BINARY)[1]\n",
    "CV_show(\"binary\", binary)"
   ]
  },
  {
   "cell_type": "code",
   "execution_count": 25,
   "id": "c2e612c9",
   "metadata": {},
   "outputs": [
    {
     "name": "stdout",
     "output_type": "stream",
     "text": [
      "['4', '0', '0', '0', '1', '2', '3', '4', '5', '6', '7', '8', '9', '0', '1', '0']\n"
     ]
    }
   ],
   "source": [
    "# 上述步骤将数字块状化，至此描绘轮廓，根据长宽比例找出数字块\n",
    "ref, thresh_cnts, hirearchy = cv2.findContours(binary.copy(), cv2.RETR_EXTERNAL, cv2.CHAIN_APPROX_SIMPLE)\n",
    "cur_img = BankCard_gray.copy()\n",
    "cv2.drawContours(cur_img, thresh_cnts, -1, (0,0,255), 2)\n",
    "CV_show(\"1\", cur_img)\n",
    "\n",
    "locs = [] # 存储目标字母块坐标信息\n",
    "\n",
    "# 遍历轮廓，找到目标数字块\n",
    "for (i, c) in enumerate(thresh_cnts):\n",
    "    (x,y,w,h) = cv2.boundingRect(c)\n",
    "    ar = w / float(h)\n",
    "    # 判断边框的比例以及大小，筛选目标数字块\n",
    "    if ar >2.5 and ar<4.0:\n",
    "        if (w > 40 and w < 55) and (h > 10 and h < 20):\n",
    "            locs.append((x,y,w,h))\n",
    "\n",
    "locs = sorted(locs, key=lambda x:x[0]) # 对位置坐标重新排序\n",
    "output = [] # 存储输出占据的空间\n",
    "\n",
    "# locs 为处理后获得的数字块\n",
    "for (i, (X,Y,W,H)) in enumerate(locs):\n",
    "    roi = BankCard_gray[Y-5:Y+H+5, X-5:X+W+5]  # 划出感兴趣的区域 \n",
    "    binary_roi = cv2.threshold(roi, 0, 255, cv2.THRESH_BINARY | cv2.THRESH_OTSU)[1] # 将感兴趣区域二值化，勾勒轮廓\n",
    "    cnts = cv2.findContours(binary_roi.copy(), cv2.RETR_EXTERNAL, cv2.CHAIN_APPROX_SIMPLE)[1]\n",
    "    # CV_show(\"roi\", binary_roi)\n",
    "    sorted_cnts = sort_contours(cnts)[0]\n",
    "    \n",
    "    group_output = [] # 记录当前字母块得到的结果\n",
    "    # 该循环为块内数字的确认与匹配\n",
    "    for (j, d) in enumerate(sorted_cnts):\n",
    "        x, y, w, h = cv2.boundingRect(d)\n",
    "        target = binary_roi[y:y+h, x:x+w]\n",
    "        target = cv2.resize(target, (40, 64))\n",
    "        # CV_show(\"target\", target)\n",
    "        \n",
    "        scores = [] # 记录匹配得分\n",
    "        # 将当前数字与模板一一匹配，获取匹配得分\n",
    "        for (num, numROI) in dict_temlate.items():\n",
    "            result = cv2.matchTemplate(target, numROI, cv2.TM_CCORR_NORMED) # 相关系数，越大越匹配\n",
    "            score = cv2.minMaxLoc(result)[1]\n",
    "            scores.append(score)\n",
    "        group_output.append(str(np.argmax(scores))) # 根据得分确认结果\n",
    "        \n",
    "    # 在原始图像中画出数字块与数字\n",
    "    cv2.putText(BankCard, \"\".join(group_output), (int(X*ratio), int(Y*ratio)-15), \n",
    "                cv2.FONT_HERSHEY_SIMPLEX, 0.65*ratio, (0,0,255), 2)\n",
    "    output.extend(group_output)\n",
    "    \n",
    "print(output)\n",
    "CV_show(\"BankCard\", BankCard)"
   ]
  }
 ],
 "metadata": {
  "kernelspec": {
   "display_name": "OpenCV",
   "language": "python",
   "name": "opencv"
  },
  "language_info": {
   "codemirror_mode": {
    "name": "ipython",
    "version": 3
   },
   "file_extension": ".py",
   "mimetype": "text/x-python",
   "name": "python",
   "nbconvert_exporter": "python",
   "pygments_lexer": "ipython3",
   "version": "3.6.13"
  }
 },
 "nbformat": 4,
 "nbformat_minor": 5
}
