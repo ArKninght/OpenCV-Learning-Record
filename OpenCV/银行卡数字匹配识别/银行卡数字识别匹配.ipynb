{
 "cells": [
  {
   "cell_type": "markdown",
   "id": "231af296",
   "metadata": {},
   "source": [
    "### 实现目标\n",
    "- 识别数字并存储数字\n",
    "- 标识出数字的位置并画出图形  "
   ]
  },
  {
   "cell_type": "markdown",
   "id": "788b3269",
   "metadata": {},
   "source": [
    "### 方法\n",
    "对模板以及银行卡进行轮廓检测，获取对应数字的轮廓矩形  \n",
    "将银行卡中的矩形和模板一一比较，得到结果"
   ]
  },
  {
   "cell_type": "markdown",
   "id": "059d1cb3",
   "metadata": {},
   "source": [
    "### 问题\n",
    "轮廓检测过程中会检测到许多不相关的轮廓，如何预处理剔除这些轮廓并保留自己需要的轮廓是主要问题  \n",
    "通过长宽比例来过滤不需要的轮廓\n",
    "- 预处理是图像处理中比较重要的部分"
   ]
  },
  {
   "cell_type": "code",
   "execution_count": 1,
   "id": "765c5bb2",
   "metadata": {},
   "outputs": [],
   "source": [
    "import cv2\n",
    "import numpy as np"
   ]
  },
  {
   "cell_type": "code",
   "execution_count": 2,
   "id": "3b9438f2",
   "metadata": {},
   "outputs": [],
   "source": [
    "# 定义函数\n",
    "# 排序函数\n",
    "def sort_contours(cnts, methods = \"left-to-right\"):\n",
    "    # 定义两个参数，决定排列的顺序\n",
    "    reverse = False\n",
    "    i = 0;\n",
    "    # 条件判断，根据目标排列顺序改变参数\n",
    "    if methods == \"right-to-left\" or methods == \"bottom-to-top\":\n",
    "        reverse = True\n",
    "    if methods == \"top-to-bottom\" or methods == \"bottom-to-top\":\n",
    "        i = 1\n",
    "    \n",
    "    boundingbox = [cv2.boundingRect(c) for c in cnts] # 返回一个矩形，包括x,y,w,h\n",
    "    (cnts, boundingbox) = zip(*sorted(zip(cnts, boundingbox), key=lambda b: b[1][i], reverse=reverse))\n",
    "    \n",
    "    return cnts, boundingbox\n",
    " \n",
    "def CV_show(name, img):\n",
    "    cv2.imshow(name, img)\n",
    "    cv2.waitKey(0)\n",
    "    cv2.destroyAllWindows()"
   ]
  },
  {
   "cell_type": "code",
   "execution_count": null,
   "id": "b5ef7bd7",
   "metadata": {},
   "outputs": [],
   "source": []
  }
 ],
 "metadata": {
  "kernelspec": {
   "display_name": "OpenCV",
   "language": "python",
   "name": "opencv"
  },
  "language_info": {
   "codemirror_mode": {
    "name": "ipython",
    "version": 3
   },
   "file_extension": ".py",
   "mimetype": "text/x-python",
   "name": "python",
   "nbconvert_exporter": "python",
   "pygments_lexer": "ipython3",
   "version": "3.6.13"
  }
 },
 "nbformat": 4,
 "nbformat_minor": 5
}
