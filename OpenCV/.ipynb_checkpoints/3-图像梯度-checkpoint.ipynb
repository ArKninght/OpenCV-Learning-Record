{
 "cells": [
  {
   "cell_type": "markdown",
   "id": "bd42731c",
   "metadata": {},
   "source": [
    "## 图像梯度-Sobel算子\n",
    "$$G_x=\n",
    "  \\begin{bmatrix}\n",
    "   -1 & 0 & +1 \\\\\n",
    "   -2 & 0 & +2 \\\\\n",
    "   -1 & 0 & +1\n",
    "  \\end{bmatrix} \\tag{1}\n",
    "  *A\n",
    "$$\n",
    "$$\n",
    "  G_y=\n",
    "   \\begin{bmatrix}\n",
    "   -1 & -2 & -1 \\\\\n",
    "   0 & 0 & 0 \\\\\n",
    "   +1 & +2 & +1\n",
    "  \\end{bmatrix} \\tag{1}\n",
    "  *A\n",
    "$$\n",
    "从右到左，从上到下"
   ]
  },
  {
   "cell_type": "code",
   "execution_count": 1,
   "id": "ffab62c8",
   "metadata": {},
   "outputs": [],
   "source": [
    "import cv2\n",
    "import matplotlib.pyplot as plt\n",
    "import numpy as np"
   ]
  },
  {
   "cell_type": "code",
   "execution_count": 2,
   "id": "a41f5d5e",
   "metadata": {},
   "outputs": [],
   "source": [
    "def CV2_Show(name, img):\n",
    "    cv2.imshow(name, img)\n",
    "    cv2.waitKey(0)\n",
    "    cv2.destroyAllWindows()"
   ]
  },
  {
   "cell_type": "markdown",
   "id": "4f18546d",
   "metadata": {},
   "source": [
    "dst = cv2.Sobel(src, ddepth, dx, dy, ksize)\n",
    "- ddepth:图像深度（通常情况设为-1即可）\n",
    "- dx,dy分别表示水平和竖直方向\n",
    "- ksize是sobel算子的大小"
   ]
  },
  {
   "cell_type": "code",
   "execution_count": 3,
   "id": "4626e814",
   "metadata": {},
   "outputs": [],
   "source": [
    "img = cv2.imread('circle.jpg')\n",
    "sobelx = cv2.Sobel(img, cv2.CV_64F, 1, 0, ksize=3) # cv2.CV_64F，由于要计算差异而不需要\n",
    "CV2_Show('sobelx', sobelx)"
   ]
  },
  {
   "cell_type": "code",
   "execution_count": 4,
   "id": "9f30ac88",
   "metadata": {},
   "outputs": [],
   "source": [
    "sobelx = cv2.Sobel(img, cv2.CV_64F, 1, 0, ksize=3)\n",
    "sobelx = cv2.convertScaleAbs(sobelx)\n",
    "CV2_Show('sobelx', sobelx)"
   ]
  },
  {
   "cell_type": "code",
   "execution_count": 5,
   "id": "ac2ce9b5",
   "metadata": {},
   "outputs": [],
   "source": [
    "sobely = cv2.Sobel(img, cv2.CV_64F, 0, 1, ksize=3)\n",
    "sobely = cv2.convertScaleAbs(sobely)\n",
    "CV2_Show('sobely', sobely)"
   ]
  },
  {
   "cell_type": "code",
   "execution_count": 6,
   "id": "f7d8d170",
   "metadata": {},
   "outputs": [],
   "source": [
    "sobelxy = cv2.addWeighted(sobelx, 0.5, sobely, 0.5, 0)\n",
    "CV2_Show('sobelxy', sobelxy)"
   ]
  },
  {
   "cell_type": "markdown",
   "id": "988e395f",
   "metadata": {},
   "source": [
    "将x，y计算出的梯度加权相加（一般不建议直接计算）"
   ]
  },
  {
   "cell_type": "code",
   "execution_count": 7,
   "id": "1b0b8889",
   "metadata": {},
   "outputs": [],
   "source": [
    "sobel = cv2.Sobel(img, cv2.CV_64F, 1, 1, ksize=3)\n",
    "sobel = cv2.convertScaleAbs(sobel)\n",
    "CV2_Show('sobel', sobel) # 直接计算得到的结果会比较差"
   ]
  },
  {
   "cell_type": "code",
   "execution_count": 8,
   "id": "380a8ad9",
   "metadata": {},
   "outputs": [],
   "source": [
    "sobel_res = np.hstack((sobelxy, sobel))\n",
    "CV2_Show(\"sobel_res\", sobel_res)"
   ]
  },
  {
   "cell_type": "code",
   "execution_count": 9,
   "id": "09c66f97",
   "metadata": {},
   "outputs": [],
   "source": [
    "img = cv2.imread('shrink37.jpg', cv2.IMREAD_GRAYSCALE)\n",
    "CV2_Show('img', img)"
   ]
  },
  {
   "cell_type": "code",
   "execution_count": 10,
   "id": "12cbcc75",
   "metadata": {},
   "outputs": [],
   "source": [
    "sobelx = cv2.Sobel(img, cv2.CV_64F, 1, 0, ksize=3)\n",
    "sobelx = cv2.convertScaleAbs(sobelx)\n",
    "sobely = cv2.Sobel(img, cv2.CV_64F, 0, 1, ksize=3)\n",
    "sobely = cv2.convertScaleAbs(sobely)\n",
    "sobelxy = cv2.addWeighted(sobelx, 0.5, sobely, 0.5, 0)\n",
    "CV2_Show('sobelxy', sobelxy)"
   ]
  },
  {
   "cell_type": "code",
   "execution_count": 11,
   "id": "79136308",
   "metadata": {},
   "outputs": [],
   "source": [
    "# 直接计算\n",
    "sobel_xy = cv2.Sobel(img, cv2.CV_64F, 1, 1, ksize=3)\n",
    "sobel_xy = cv2.convertScaleAbs(sobel_xy)\n",
    "CV2_Show('sobel_xy', sobel_xy)"
   ]
  },
  {
   "cell_type": "code",
   "execution_count": 12,
   "id": "6b94041f",
   "metadata": {},
   "outputs": [],
   "source": [
    "shrink37_ressobel = np.hstack((sobelxy, sobel_xy))\n",
    "CV2_Show(\"shrink37_ressobel\", shrink37_ressobel)"
   ]
  },
  {
   "cell_type": "code",
   "execution_count": 13,
   "id": "785fa35b",
   "metadata": {},
   "outputs": [],
   "source": [
    "res = np.hstack((sobelx, sobely, sobelxy, sobel_xy))\n",
    "CV2_Show('res', res)"
   ]
  },
  {
   "cell_type": "markdown",
   "id": "3f77d795",
   "metadata": {},
   "source": [
    "## 图像梯度-Scharr算子\n",
    "$$G_x=\n",
    "  \\begin{bmatrix}\n",
    "   -3 & 0 & +3 \\\\\n",
    "   -10 & 0 & +10 \\\\\n",
    "   -3 & 0 & +3\n",
    "  \\end{bmatrix} \\tag{1}\n",
    "  *A\n",
    "$$\n",
    "$$\n",
    "  G_y=\n",
    "   \\begin{bmatrix}\n",
    "   -3 & -10 & -3 \\\\\n",
    "   0 & 0 & 0 \\\\\n",
    "   +3 & +10 & +3\n",
    "  \\end{bmatrix} \\tag{1}\n",
    "  *A\n",
    "$$\n",
    "\n",
    "## 图像梯度-laplacian算子\n",
    "### 对噪音点比较敏感，常和其他方法一同使用\n",
    "$$G=\n",
    "  \\begin{bmatrix}\n",
    "   0 & 1 & 0 \\\\\n",
    "   1 & -4 & 1 \\\\\n",
    "   0 & 1 & 0\n",
    "  \\end{bmatrix} \\tag{1}\n",
    "$$"
   ]
  },
  {
   "cell_type": "code",
   "execution_count": 14,
   "id": "adc8bff9",
   "metadata": {},
   "outputs": [],
   "source": [
    "img = cv2.imread('shrink37.jpg', cv2.IMREAD_GRAYSCALE)\n",
    "# 不同算子的比较\n",
    "sobelx = cv2.Sobel(img, cv2.CV_64F, 1, 0, ksize=3)\n",
    "sobely = cv2.Sobel(img, cv2.CV_64F, 0, 1, ksize=3)\n",
    "sobelx = cv2.convertScaleAbs(sobelx)\n",
    "sobely = cv2.convertScaleAbs(sobely)\n",
    "sobelxy = cv2.addWeighted(sobelx, 0.5, sobely, 0.5, 0)\n",
    "\n",
    "scharrx = cv2.Scharr(img, cv2.CV_64F, 1, 0)\n",
    "scharry = cv2.Scharr(img, cv2.CV_64F, 0, 1)\n",
    "scharrx = cv2.convertScaleAbs(scharrx)\n",
    "scharry = cv2.convertScaleAbs(scharry)\n",
    "scharrxy = cv2.addWeighted(scharrx, 0.5, scharry, 0.5, 0)\n",
    "\n",
    "laplacian = cv2.Laplacian(img, cv2.CV_64F)\n",
    "laplacian = cv2.convertScaleAbs(laplacian)\n",
    "\n",
    "res = np.hstack((img, sobelxy, scharrxy, laplacian))\n",
    "CV2_Show('res', res)"
   ]
  },
  {
   "cell_type": "markdown",
   "id": "99ea89c0",
   "metadata": {},
   "source": [
    "scharr算子相较于sobel算子更细致一些，能够捕捉更丰富的梯度信息"
   ]
  },
  {
   "cell_type": "markdown",
   "id": "d77da240",
   "metadata": {},
   "source": [
    "## Canny边缘检测"
   ]
  },
  {
   "cell_type": "code",
   "execution_count": 15,
   "id": "69337283",
   "metadata": {},
   "outputs": [],
   "source": [
    "img = cv2.imread('shrink37.jpg', cv2.IMREAD_GRAYSCALE)\n",
    "\n",
    "canny1 = cv2.Canny(img, 50, 120)\n",
    "canny2 = cv2.Canny(img, 100, 150)\n",
    "\n",
    "# 参数规则 50 - 120\n",
    "# 对高于120的边缘  保留\n",
    "# 对介于50-120之间的边缘  若与高于120的边缘相连接，则保留，否则舍弃\n",
    "# 对低于50的边缘  舍弃\n",
    "# 通过双阈值来判断边缘的存留与否\n",
    "\n",
    "res = np.hstack((canny1, canny2))\n",
    "\n",
    "CV2_Show('res', res)"
   ]
  },
  {
   "cell_type": "markdown",
   "id": "22324a6a",
   "metadata": {},
   "source": [
    "## 图像金字塔"
   ]
  },
  {
   "cell_type": "markdown",
   "id": "6a9ea6b1",
   "metadata": {},
   "source": [
    "- 高斯金字塔\n",
    "- 拉普拉斯金字塔  \n",
    "高斯金字塔：  \n",
    "1、向下采样方法（缩小）  \n",
    "- 将Gi与高斯内核卷积\n",
    "- 将偶数行和列去除  \n",
    "2、向上采样方法（扩大）  \n",
    "- 将图像在每个方向扩充为原来的两倍大小\n",
    "- 使用先前同样的内核*4与放大后的图像卷积，获得近似值"
   ]
  },
  {
   "cell_type": "code",
   "execution_count": 18,
   "id": "170e0719",
   "metadata": {},
   "outputs": [
    {
     "name": "stdout",
     "output_type": "stream",
     "text": [
      "(549, 400, 3)\n"
     ]
    }
   ],
   "source": [
    "# 高斯金字塔的代码实现\n",
    "img = cv2.imread('shrink37.jpg')\n",
    "CV2_Show('img', img)\n",
    "print(img.shape)"
   ]
  },
  {
   "cell_type": "code",
   "execution_count": 19,
   "id": "f41437a1",
   "metadata": {},
   "outputs": [
    {
     "name": "stdout",
     "output_type": "stream",
     "text": [
      "(1098, 800, 3)\n"
     ]
    }
   ],
   "source": [
    "up = cv2.pyrUp(img)\n",
    "CV2_Show('up', up)\n",
    "print(up.shape)"
   ]
  },
  {
   "cell_type": "code",
   "execution_count": 20,
   "id": "648d0b4c",
   "metadata": {},
   "outputs": [
    {
     "name": "stdout",
     "output_type": "stream",
     "text": [
      "(275, 200, 3)\n"
     ]
    }
   ],
   "source": [
    "down = cv2.pyrDown(img)\n",
    "CV2_Show('down', down)\n",
    "print(down.shape)"
   ]
  },
  {
   "cell_type": "code",
   "execution_count": 17,
   "id": "e5c5b644",
   "metadata": {},
   "outputs": [
    {
     "name": "stdout",
     "output_type": "stream",
     "text": [
      "(549, 400)\n"
     ]
    }
   ],
   "source": [
    "up_down = cv2.pyrUp(img)\n",
    "up_down = cv2.pyrDown(up_down)\n",
    "CV2_Show('up_down', up_down)\n",
    "print(up_down.shape)\n",
    "\n",
    "res = np.hstack((img, up_down))\n",
    "CV2_Show('res', res)"
   ]
  },
  {
   "cell_type": "code",
   "execution_count": 16,
   "id": "7c1c5b1a",
   "metadata": {},
   "outputs": [],
   "source": [
    "# 拉普拉斯金字塔\n",
    "down = cv2.pyrDown(img)\n",
    "down_up = cv2.pyrUp(down)\n",
    "down_up = cv2.resize(down_up, (400, 549))\n",
    "l_1 = img - down_up\n",
    "CV2_Show('l', l_1)"
   ]
  },
  {
   "cell_type": "code",
   "execution_count": null,
   "id": "d19db9d0",
   "metadata": {},
   "outputs": [],
   "source": []
  }
 ],
 "metadata": {
  "kernelspec": {
   "display_name": "OpenCV",
   "language": "python",
   "name": "opencv"
  },
  "language_info": {
   "codemirror_mode": {
    "name": "ipython",
    "version": 3
   },
   "file_extension": ".py",
   "mimetype": "text/x-python",
   "name": "python",
   "nbconvert_exporter": "python",
   "pygments_lexer": "ipython3",
   "version": "3.6.13"
  }
 },
 "nbformat": 4,
 "nbformat_minor": 5
}
