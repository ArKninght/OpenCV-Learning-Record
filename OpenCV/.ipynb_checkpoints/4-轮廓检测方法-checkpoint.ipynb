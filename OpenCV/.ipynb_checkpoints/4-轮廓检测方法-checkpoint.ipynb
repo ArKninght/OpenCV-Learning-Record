{
 "cells": [
  {
   "cell_type": "markdown",
   "id": "3700af6c",
   "metadata": {},
   "source": [
    "## 图像轮廓检测\n",
    "cv2.findContours(img, mode, method)  \n",
    "mode:轮廓检索模式\n",
    "- 一般选择RETR_TREE: 检索所有轮廓，并重构嵌套轮廓的整个层次  \n",
    "\n",
    "method:轮廓逼近方法\n",
    "- CHAIN_APPROX_NONE:显示轮廓的边缘，输出基本为多边形\n",
    "- CHAIN_APPROX_SIMPLE:只保留轮廓的重点部分"
   ]
  },
  {
   "cell_type": "code",
   "execution_count": 12,
   "id": "9b592334",
   "metadata": {},
   "outputs": [],
   "source": [
    "import cv2\n",
    "import matplotlib.pyplot as plt\n",
    "import numpy as np\n",
    "\n",
    "def CV2_Show(name, img):\n",
    "    cv2.imshow(name, img)\n",
    "    cv2.waitKey(0)\n",
    "    cv2.destroyAllWindows()"
   ]
  },
  {
   "cell_type": "code",
   "execution_count": 2,
   "id": "066d1bad",
   "metadata": {},
   "outputs": [],
   "source": [
    "img = cv2.imread(\"shrink37.jpg\")\n",
    "gray = cv2.cvtColor(img, cv2.COLOR_BGR2GRAY)\n",
    "ret, thresh = cv2.threshold(gray, 127, 255, cv2.THRESH_BINARY)\n",
    "CV2_Show('BINARY', thresh)"
   ]
  },
  {
   "cell_type": "code",
   "execution_count": 3,
   "id": "f7e97c4d",
   "metadata": {},
   "outputs": [],
   "source": [
    "binary, counters, hierarchy = cv2.findContours(thresh, cv2.RETR_TREE, cv2.CHAIN_APPROX_NONE)"
   ]
  },
  {
   "cell_type": "markdown",
   "id": "fa6909ad",
   "metadata": {},
   "source": [
    "绘制轮廓  \n",
    "- 获取图片\n",
    "- 转为灰度图\n",
    "- 判断阈值，阈值操作\n",
    "- 检索轮廓 cv2.findContours()\n",
    "- 绘制轮廓 cv2.drawContours()"
   ]
  },
  {
   "cell_type": "code",
   "execution_count": 4,
   "id": "ed8805da",
   "metadata": {},
   "outputs": [],
   "source": [
    "# 传入绘制图像，轮廓，轮廓索引，颜色模式，线条厚度\n",
    "# 注意需要copy一份原图，否则会将原图也改变\n",
    "draw_img = img.copy()\n",
    "res = cv2.drawContours(draw_img, counters, -1, (0,0,255), 1) # -1为显示轮廓的个数，(0,0,255)为色彩的元组BGR，2为线条的宽度\n",
    "CV2_Show(\"res\", res)"
   ]
  },
  {
   "cell_type": "code",
   "execution_count": 5,
   "id": "c0f5ee2e",
   "metadata": {},
   "outputs": [],
   "source": [
    "img = cv2.imread(\"Shape.jpg\")\n",
    "gray = cv2.cvtColor(img, cv2.COLOR_BGR2GRAY)\n",
    "ret, thresh = cv2.threshold(gray, 70, 255, cv2.THRESH_BINARY)\n",
    "res = np.hstack((gray, thresh))\n",
    "CV2_Show(\"thresh\", res)"
   ]
  },
  {
   "cell_type": "code",
   "execution_count": 6,
   "id": "e0e514b1",
   "metadata": {},
   "outputs": [],
   "source": [
    "binary, counters, hierarchy = cv2.findContours(thresh, cv2.RETR_TREE, cv2.CHAIN_APPROX_NONE)\n",
    "draw_img = img.copy()\n",
    "res = cv2.drawContours(draw_img, counters, -1, (0,0,255), 2)\n",
    "CV2_Show(\"res\", res)"
   ]
  },
  {
   "cell_type": "markdown",
   "id": "6b41a935",
   "metadata": {},
   "source": [
    "轮廓特征"
   ]
  },
  {
   "cell_type": "code",
   "execution_count": 7,
   "id": "24bc1f30",
   "metadata": {},
   "outputs": [],
   "source": [
    "cnt = counters[0]"
   ]
  },
  {
   "cell_type": "code",
   "execution_count": 8,
   "id": "6d1a3f89",
   "metadata": {},
   "outputs": [
    {
     "data": {
      "text/plain": [
       "1655.5"
      ]
     },
     "execution_count": 8,
     "metadata": {},
     "output_type": "execute_result"
    }
   ],
   "source": [
    "# 算面积\n",
    "cv2.contourArea(cnt)"
   ]
  },
  {
   "cell_type": "code",
   "execution_count": 9,
   "id": "82032df1",
   "metadata": {},
   "outputs": [
    {
     "data": {
      "text/plain": [
       "161.78174459934235"
      ]
     },
     "execution_count": 9,
     "metadata": {},
     "output_type": "execute_result"
    }
   ],
   "source": [
    "# 周长，True表示闭合的\n",
    "cv2.arcLength(cnt, True)"
   ]
  },
  {
   "cell_type": "markdown",
   "id": "a8e47612",
   "metadata": {},
   "source": [
    "轮廓近似"
   ]
  },
  {
   "cell_type": "code",
   "execution_count": 24,
   "id": "73a9763a",
   "metadata": {},
   "outputs": [],
   "source": [
    "img = cv2.imread('contours.png')\n",
    "\n",
    "CV2_Show(\"img\", img)\n",
    "gray = cv2.cvtColor(img, cv2.COLOR_BGR2GRAY)\n",
    "ret, thresh = cv2.threshold(gray, 127, 255, cv2.THRESH_BINARY)\n",
    "binary, contours, hierarchy = cv2.findContours(thresh, cv2.RETR_TREE, cv2.CHAIN_APPROX_NONE)\n",
    "cnt = contours[0]\n",
    "\n",
    "# draw_img = img.copy()\n",
    "# res = cv2.drawContours(img, [cnt], -1, (0, 0 ,255), 2)\n",
    "# CV2_Show(\"res\", res)"
   ]
  },
  {
   "cell_type": "code",
   "execution_count": 32,
   "id": "1ffd83b0",
   "metadata": {},
   "outputs": [],
   "source": [
    "epsilon = 0.05*cv2.arcLength(cnt,True)\n",
    "approx = cv2.approxPolyDP(cnt, epsilon, True)\n",
    "\n",
    "draw_img = img.copy()\n",
    "res = cv2.drawContours(draw_img, [approx], -1, (0, 0, 255), 2)\n",
    "CV2_Show(\"res\", res)"
   ]
  },
  {
   "cell_type": "markdown",
   "id": "9c94d2c4",
   "metadata": {},
   "source": [
    "边界矩形\n",
    "- cv2.boundingRect()"
   ]
  },
  {
   "cell_type": "code",
   "execution_count": 51,
   "id": "0df4fd1f",
   "metadata": {},
   "outputs": [],
   "source": [
    "img = cv2.imread(\"Shape.jpg\")\n",
    "gray = cv2.cvtColor(img, cv2.COLOR_BGR2GRAY)\n",
    "ret, thresh = cv2.threshold(gray, 70, 255, cv2.THRESH_BINARY)\n",
    "binary, contours, hierarchy = cv2.findContours(thresh, cv2.RETR_TREE, cv2.CHAIN_APPROX_NONE)\n",
    "cnt = contours[0]\n",
    "x, y, w, h = cv2.boundingRect(cnt)\n",
    "res = cv2.rectangle(img, (x, y), (x+w, y+h), (0, 255, 0), 2)\n",
    "CV2_Show(\"res\", res)"
   ]
  },
  {
   "cell_type": "code",
   "execution_count": 35,
   "id": "92c01958",
   "metadata": {},
   "outputs": [
    {
     "name": "stdout",
     "output_type": "stream",
     "text": [
      "0.6757142857142857\n"
     ]
    }
   ],
   "source": [
    "area = cv2.contourArea(cnt)\n",
    "x,y,w,h = cv2.boundingRect(cnt)\n",
    "area2 = w*h\n",
    "extent = area/area2\n",
    "print(extent)"
   ]
  },
  {
   "cell_type": "code",
   "execution_count": 50,
   "id": "97c78dcc",
   "metadata": {},
   "outputs": [],
   "source": [
    "img = cv2.imread(\"Shape.jpg\")\n",
    "gray = cv2.cvtColor(img, cv2.COLOR_BGR2GRAY)\n",
    "ret, thresh = cv2.threshold(gray, 127, 255, cv2.THRESH_BINARY)\n",
    "binary, contours, hierarchy = cv2.findContours(thresh, cv2.RETR_TREE, cv2.CHAIN_APPROX_NONE)\n",
    "res = img.copy()\n",
    "for i in counters:\n",
    "    x,y,w,h = cv2.boundingRect(i)\n",
    "    res = cv2.rectangle(res, (x, y), (x+w, y+h), (0, 0, 255), 2)\n",
    "CV2_Show(\"res\", res)\n"
   ]
  },
  {
   "cell_type": "markdown",
   "id": "987f2d8d",
   "metadata": {},
   "source": [
    "外接圆"
   ]
  },
  {
   "cell_type": "code",
   "execution_count": 54,
   "id": "83759102",
   "metadata": {},
   "outputs": [],
   "source": [
    "(x, y), radius = cv2.minEnclosingCircle(cnt)\n",
    "center = (int(x), int(y))\n",
    "radius = int(radius)\n",
    "res = cv2.circle(img, center, radius, (0,0,255))\n",
    "CV2_Show(\"res\", res)"
   ]
  },
  {
   "cell_type": "code",
   "execution_count": null,
   "id": "603b57fa",
   "metadata": {},
   "outputs": [],
   "source": []
  }
 ],
 "metadata": {
  "kernelspec": {
   "display_name": "OpenCV",
   "language": "python",
   "name": "opencv"
  },
  "language_info": {
   "codemirror_mode": {
    "name": "ipython",
    "version": 3
   },
   "file_extension": ".py",
   "mimetype": "text/x-python",
   "name": "python",
   "nbconvert_exporter": "python",
   "pygments_lexer": "ipython3",
   "version": "3.6.13"
  }
 },
 "nbformat": 4,
 "nbformat_minor": 5
}
