{
 "cells": [
  {
   "cell_type": "markdown",
   "id": "232d5e32",
   "metadata": {},
   "source": [
    "基本步骤\n",
    "- step1:边缘检测\n",
    "- step2:获取轮廓\n",
    "- step3:变换\n",
    "- step4:OCR"
   ]
  },
  {
   "cell_type": "code",
   "execution_count": null,
   "id": "e97983ff",
   "metadata": {},
   "outputs": [],
   "source": []
  }
 ],
 "metadata": {
  "kernelspec": {
   "display_name": "OpenCV",
   "language": "python",
   "name": "opencv"
  },
  "language_info": {
   "codemirror_mode": {
    "name": "ipython",
    "version": 3
   },
   "file_extension": ".py",
   "mimetype": "text/x-python",
   "name": "python",
   "nbconvert_exporter": "python",
   "pygments_lexer": "ipython3",
   "version": "3.6.13"
  }
 },
 "nbformat": 4,
 "nbformat_minor": 5
}
