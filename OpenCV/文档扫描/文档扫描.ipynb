{
 "cells": [
  {
   "cell_type": "markdown",
   "id": "232d5e32",
   "metadata": {},
   "source": [
    "基本步骤\n",
    "- step1:边缘检测\n",
    "- step2:获取轮廓\n",
    "- step3:变换\n",
    "- step4:OCR"
   ]
  },
  {
   "cell_type": "code",
   "execution_count": 1,
   "id": "e97983ff",
   "metadata": {},
   "outputs": [],
   "source": [
    "# 包引入\n",
    "import cv2\n",
    "import numpy as np\n",
    "import matplotlib.pyplot as plt\n",
    "from PIL import Image\n",
    "import pytesseract\n",
    "import os"
   ]
  },
  {
   "cell_type": "code",
   "execution_count": 2,
   "id": "41004489",
   "metadata": {},
   "outputs": [],
   "source": [
    "# 定义一些函数\n",
    "# 图像显示函数\n",
    "def CV_show(name, img):\n",
    "    \"显示输入图像\"\n",
    "    cv2.imshow(name, img)\n",
    "    cv2.waitKey(0)\n",
    "    cv2.destroyAllWindows()\n",
    "\n",
    "# 重构图像的尺寸\n",
    "def resize(img, width=None, height=None, inter=cv2.INTER_AREA):\n",
    "    \"据输入的长宽重新定义图像的尺寸\"\n",
    "    dim=None\n",
    "    (h, w) = img.shape[:2]\n",
    "    if width==None and height==None:\n",
    "        return img\n",
    "    elif height==None:\n",
    "        r = width/float(w)\n",
    "        dim = (width, int(h * r))\n",
    "    else:\n",
    "        r = height/float(h)\n",
    "        dim = (int(w * r), height)\n",
    "    resized = cv2.resize(img, dim, interpolation=inter)\n",
    "    return resized\n",
    "\n",
    "# 对一个矩形的四组坐标点排序,0123对应为从左上角顺时针依次数的四个角\n",
    "def order_point(pts):\n",
    "    rect = np.zeros((4,2),dtype=\"float32\")\n",
    "    \n",
    "    # 先计算左上角与wd右下角,将x y坐标相加,最大的为右下角,最小的为左上角\n",
    "    s = pts.sum(axis=1)\n",
    "    rect[0] = pts[np.argmin(s)]\n",
    "    rect[2] = pts[np.argmax(s)]\n",
    "    \n",
    "    # 计算右上角与左下角,将x y相除y/x最小为右上,最大为左下\n",
    "    diff = np.diff(pts, axis=1)\n",
    "    rect[1] = pts[np.argmin(diff)]\n",
    "    rect[3] = pts[np.argmax(diff)]\n",
    "    \n",
    "    return rect\n",
    "\n",
    "# 对二维图像进行透视变换\n",
    "def four_point_transform(img, dst):\n",
    "    # 需要两组坐标,来计算变换矩阵\n",
    "    rect = order_point(dst)\n",
    "    (tl, tr, br, bl) = rect\n",
    "    \n",
    "    # 计算原始图像中的w,h,并确定变换后图像中的w,h\n",
    "    widthA = np.sqrt(((br[0]-bl[0])**2)+((br[1]-bl[1])**2))\n",
    "    widthB = np.sqrt(((tr[0]-tl[0])**2)+((tr[1]-tl[1])**2))\n",
    "    width = max(int(widthA), int(widthB)) # 需要将数据强制转换为整数类型,否则在计算转换矩阵时会报错\n",
    "    \n",
    "    heightA = np.sqrt((br[0]-tr[0])**2+(br[1]-tr[1])**2)\n",
    "    heightB = np.sqrt((bl[0]-tl[0])**2+(bl[1]-tl[1])**2)\n",
    "    height = max(int(heightA), int(heightB))\n",
    "    \n",
    "    # 定义变换后坐标\n",
    "    dst = np.array(\n",
    "            [[0,0],\n",
    "            [width-1,0],\n",
    "            [width-1, height-1],\n",
    "            [0, height-1]], dtype=\"float32\")\n",
    "    \n",
    "    # 计算变换矩阵   \n",
    "    # 参数:两组坐标点-原始输入坐标与目标坐标\n",
    "    M = cv2.getPerspectiveTransform(rect, dst)\n",
    "    # 计算变换后结果\n",
    "    warped = cv2.warpPerspective(img, M, (width, height))\n",
    "    # 返回结果\n",
    "    return warped"
   ]
  },
  {
   "cell_type": "code",
   "execution_count": 3,
   "id": "3671d977",
   "metadata": {},
   "outputs": [],
   "source": [
    "img = cv2.imread(\"Document1.jpg\")\n",
    "origin = img.copy()\n",
    "ratio = img.shape[0] / 1000.0\n",
    "\n",
    "resized = resize(origin, height=1000)\n",
    "\n",
    "# 预处理\n",
    "gray = cv2.cvtColor(resized, cv2.COLOR_BGR2GRAY) # 将图片转换为灰度图\n",
    "gray = cv2.GaussianBlur(gray, (5, 5), 0) # 高斯滤波，滤除图像中的噪声\n",
    "edged = cv2.Canny(gray, 100, 200) # canny边缘检测，得到图像的大致边缘\n",
    "\n",
    "# 展示预处理之后的图像\n",
    "CV_show(\"预处理图像\", edged)"
   ]
  },
  {
   "cell_type": "code",
   "execution_count": 4,
   "id": "295a4d32",
   "metadata": {},
   "outputs": [],
   "source": [
    "# 轮廓检测,显示轮廓检测结果\n",
    "cnts = cv2.findContours(edged, cv2.RETR_LIST, cv2.CHAIN_APPROX_SIMPLE)[1] # 返回边缘检测中的轮廓图像\n",
    "img_cnts = cv2.drawContours(resized.copy(), cnts, -1, (0,0,255))\n",
    "CV_show(\"轮廓检测\", img_cnts)"
   ]
  },
  {
   "cell_type": "code",
   "execution_count": 5,
   "id": "194da550",
   "metadata": {},
   "outputs": [],
   "source": [
    "# 在轮廓中筛选出目标轮廓\n",
    "\n",
    "cnts = sorted(cnts, key=cv2.contourArea, reverse=True) # 返回一个轮廓序列，由轮廓面积大到小排列（reverse=True）\n",
    "\n",
    "for c in cnts:\n",
    "    # 计算轮廓的近似\n",
    "    peri = cv2.arcLength(c, True)\n",
    "    approx = cv2.approxPolyDP(c, 0.02 * peri, True)\n",
    "    if len(approx)==4:# 检测近似轮廓是否为完整矩形\n",
    "        screenCnt = approx\n",
    "        break\n",
    "\n",
    "img_cnts = cv2.drawContours(resized.copy(), [screenCnt], -1, (0,0,255))\n",
    "CV_show(\"轮廓检测\", img_cnts)"
   ]
  },
  {
   "cell_type": "markdown",
   "id": "4320b97e",
   "metadata": {},
   "source": [
    "问题\n",
    "在文本较多的纸张或者文字与纸张边缘较为贴近时,轮廓检测会出现一些问题即无法检测到最外围的轮廓,可能时检测方法问题"
   ]
  },
  {
   "cell_type": "code",
   "execution_count": 6,
   "id": "39f7f1b6",
   "metadata": {},
   "outputs": [
    {
     "data": {
      "text/plain": [
       "True"
      ]
     },
     "execution_count": 6,
     "metadata": {},
     "output_type": "execute_result"
    }
   ],
   "source": [
    "# 轮廓进行透视变换\n",
    "warped_img = four_point_transform(origin, screenCnt.reshape(4,2) * ratio)\n",
    "\n",
    "# 二值化\n",
    "warped_img_gray = cv2.cvtColor(warped_img, cv2.COLOR_BGR2GRAY)\n",
    "warped_img_thresh = cv2.threshold(warped_img_gray, 100, 255, cv2.THRESH_BINARY)[1]\n",
    "copied = warped_img_thresh.copy()\n",
    "resized = resize(copied, height=1000)\n",
    "CV_show(\"变换后图像\", resized)\n",
    "\n",
    "# 将结果保存\n",
    "cv2.imwrite(\"scan.jpg\", warped_img_thresh)"
   ]
  },
  {
   "cell_type": "code",
   "execution_count": 7,
   "id": "23fee78e",
   "metadata": {},
   "outputs": [
    {
     "name": "stdout",
     "output_type": "stream",
     "text": [
      "dust be what ye wont to bo\n",
      "\n",
      "Don't take others —vansidlor ation.\n",
      "\n",
      "\n"
     ]
    }
   ],
   "source": [
    "# 利用OCR检测文本中的文字\n",
    "img = cv2.imread(\"scan.jpg\")\n",
    "gray = cv2.cvtColor(img, cv2.COLOR_BGR2GRAY)\n",
    "\n",
    "filename = \"{}.png\".format(os.getpid())\n",
    "cv2.imwrite(filename, gray)\n",
    "\n",
    "text = pytesseract.image_to_string(Image.open(filename))\n",
    "print(text)\n",
    "os.remove(filename)"
   ]
  },
  {
   "cell_type": "code",
   "execution_count": null,
   "id": "d26d14d7",
   "metadata": {},
   "outputs": [],
   "source": []
  }
 ],
 "metadata": {
  "kernelspec": {
   "display_name": "OpenCV",
   "language": "python",
   "name": "opencv"
  },
  "language_info": {
   "codemirror_mode": {
    "name": "ipython",
    "version": 3
   },
   "file_extension": ".py",
   "mimetype": "text/x-python",
   "name": "python",
   "nbconvert_exporter": "python",
   "pygments_lexer": "ipython3",
   "version": "3.6.13"
  }
 },
 "nbformat": 4,
 "nbformat_minor": 5
}
